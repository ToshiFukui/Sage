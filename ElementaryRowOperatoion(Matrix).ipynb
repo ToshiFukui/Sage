{
 "cells": [
  {
   "cell_type": "code",
   "execution_count": 19,
   "metadata": {},
   "outputs": [
    {
     "name": "stdout",
     "output_type": "stream",
     "text": [
      "[ 1 -2  1  0]\n",
      "[-4  5  9 -9]\n",
      "[ 0  2 -8  8]\n",
      "\n",
      "[1 0 0]\n",
      "[4 1 0]\n",
      "[0 0 1]\n",
      "\n",
      "[ 1 -2  1  0]\n",
      "[ 0 -3 13 -9]\n",
      "[ 0  2 -8  8]\n",
      "\n",
      "[1 0 0]\n",
      "[0 0 1]\n",
      "[0 1 0]\n",
      "\n",
      "[ 1 -2  1  0]\n",
      "[ 0  2 -8  8]\n",
      "[ 0 -3 13 -9]\n",
      "\n",
      "[  1   0   0]\n",
      "[  0 1/2   0]\n",
      "[  0   0   1]\n",
      "\n",
      "[ 1 -2  1  0]\n",
      "[ 0  1 -4  4]\n",
      "[ 0 -3 13 -9]\n",
      "\n",
      "[1 0 0]\n",
      "[0 1 0]\n",
      "[0 3 1]\n",
      "\n",
      "[ 1 -2  1  0]\n",
      "[ 0  1 -4  4]\n",
      "[ 0  0  1  3]\n"
     ]
    }
   ],
   "source": [
    "#Define the augmented matrix corresponding to the linear system\n",
    "A = matrix(QQ, [[1,-2,1,0],[-4,5,9,-9],[0,2,-8,8]])\n",
    "print(A)\n",
    "print\n",
    "E1 = elementary_matrix(3, row1=1, row2=0,scale=4); \n",
    "print(E1)\n",
    "print\n",
    "print(E1*A)\n",
    "print\n",
    "E2 = elementary_matrix(3, row1=1, row2=2); \n",
    "print(E2)\n",
    "print\n",
    "print(E2*E1*A)\n",
    "print\n",
    "E3 = elementary_matrix(3, row1=1, scale=1/2); \n",
    "print(E3)\n",
    "print\n",
    "print(E3*E2*E1*A)\n",
    "print\n",
    "E4 = elementary_matrix(3, row1=2, row2=1,scale=3); \n",
    "print(E4)\n",
    "print\n",
    "print(E4*E3*E2*E1*A)"
   ]
  },
  {
   "cell_type": "code",
   "execution_count": null,
   "metadata": {},
   "outputs": [],
   "source": []
  }
 ],
 "metadata": {
  "kernelspec": {
   "display_name": "SageMath 8.9",
   "language": "sage",
   "name": "sagemath"
  },
  "language_info": {
   "codemirror_mode": {
    "name": "ipython",
    "version": 2
   },
   "file_extension": ".py",
   "mimetype": "text/x-python",
   "name": "python",
   "nbconvert_exporter": "python",
   "pygments_lexer": "ipython2",
   "version": "2.7.15"
  }
 },
 "nbformat": 4,
 "nbformat_minor": 2
}
