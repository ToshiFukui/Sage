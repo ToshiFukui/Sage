{
 "cells": [
  {
   "cell_type": "code",
   "execution_count": 1,
   "metadata": {},
   "outputs": [
    {
     "name": "stdout",
     "output_type": "stream",
     "text": [
      "[ 1 -2  1  0]\n",
      "[-4  5  9 -9]\n",
      "[ 0  2 -8  8]\n",
      "\n",
      "[ 1 -2  1  0]\n",
      "[ 0 -3 13 -9]\n",
      "[ 0  2 -8  8]\n",
      "\n",
      "[ 1 -2  1  0]\n",
      "[ 0  2 -8  8]\n",
      "[ 0 -3 13 -9]\n",
      "\n",
      "[ 1 -2  1  0]\n",
      "[ 0  1 -4  4]\n",
      "[ 0 -3 13 -9]\n",
      "\n",
      "[ 1 -2  1  0]\n",
      "[ 0  1 -4  4]\n",
      "[ 0  0  1  3]\n",
      "\n"
     ]
    }
   ],
   "source": [
    "#Define the augmented matrix corresponding to the linear system\n",
    "A = matrix(QQ, [[1,-2,1,0],[-4,5,9,-9],[0,2,-8,8]])\n",
    "print(A)\n",
    "print\n",
    "\n",
    "#Note that in Sage, we start numbering rows of a matrix at 0.\n",
    "\n",
    "#Add to row 1 multiple 4 times row 0\n",
    "A.add_multiple_of_row(1,0,4)\n",
    "print(A)\n",
    "print\n",
    "\n",
    "#Swap row 1 and row 2\n",
    "A.swap_rows(1,2)\n",
    "print(A)\n",
    "print\n",
    "\n",
    "#Multiply row 1 by 1/2\n",
    "A.rescale_row(1,1/2)\n",
    "print(A)\n",
    "print\n",
    "\n",
    "#Add to row 2 multiple 3 times row 1\n",
    "A.add_multiple_of_row(2,1,3)\n",
    "print(A)\n",
    "print"
   ]
  },
  {
   "cell_type": "code",
   "execution_count": null,
   "metadata": {},
   "outputs": [],
   "source": []
  }
 ],
 "metadata": {
  "kernelspec": {
   "display_name": "SageMath 8.9",
   "language": "sage",
   "name": "sagemath"
  },
  "language_info": {
   "codemirror_mode": {
    "name": "ipython",
    "version": 2
   },
   "file_extension": ".py",
   "mimetype": "text/x-python",
   "name": "python",
   "nbconvert_exporter": "python",
   "pygments_lexer": "ipython2",
   "version": "2.7.15"
  }
 },
 "nbformat": 4,
 "nbformat_minor": 2
}
